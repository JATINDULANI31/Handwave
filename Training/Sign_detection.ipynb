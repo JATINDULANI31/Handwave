{
 "cells": [
  {
   "cell_type": "code",
   "execution_count": 1,
   "id": "4e258101",
   "metadata": {},
   "outputs": [],
   "source": [
    "# pip install lightbgm"
   ]
  },
  {
   "cell_type": "markdown",
   "id": "413a18fe",
   "metadata": {},
   "source": [
    "<center><h1><b><u>Sign - Detection</u></b></h1></center>"
   ]
  },
  {
   "cell_type": "code",
   "execution_count": 2,
   "id": "f2a1418a",
   "metadata": {},
   "outputs": [
    {
     "name": "stderr",
     "output_type": "stream",
     "text": [
      "C:\\ProgramData\\anaconda3\\lib\\site-packages\\paramiko\\transport.py:219: CryptographyDeprecationWarning: Blowfish has been deprecated\n",
      "  \"class\": algorithms.Blowfish,\n"
     ]
    }
   ],
   "source": [
    "# Importing necessary dependencies\n",
    "\n",
    "import numpy as np\n",
    "import pandas as pd\n",
    "import cv2\n",
    "import os\n",
    "import h5py\n",
    "import matplotlib.pyplot as plt\n",
    "from skimage import feature\n",
    "import seaborn as sns\n",
    "import math\n",
    "from datetime import datetime\n",
    "import sklearn\n",
    "import joblib\n",
    "\n",
    "\n",
    "from sklearn.model_selection import KFold, RepeatedStratifiedKFold, GridSearchCV, train_test_split\n",
    "from sklearn.preprocessing import StandardScaler\n",
    "from sklearn.decomposition import PCA\n",
    "from sklearn.pipeline import Pipeline, make_pipeline\n",
    "from sklearn.preprocessing import LabelEncoder\n",
    "from sklearn.base import BaseEstimator, TransformerMixin\n",
    "\n",
    "from sklearn.svm import SVC\n",
    "from sklearn.ensemble import RandomForestClassifier, AdaBoostClassifier, GradientBoostingClassifier\n",
    "from xgboost import XGBClassifier\n",
    "from sklearn.naive_bayes import GaussianNB\n",
    "from sklearn.linear_model import LogisticRegression\n",
    "from sklearn.neighbors import KNeighborsClassifier\n",
    "from sklearn.tree import DecisionTreeClassifier\n",
    "\n",
    "from sklearn.metrics import accuracy_score, precision_score, recall_score, f1_score, roc_auc_score, confusion_matrix, make_scorer"
   ]
  },
  {
   "cell_type": "markdown",
   "id": "17bd6dbb",
   "metadata": {},
   "source": [
    "<center><h1><b><u>Loading and Preprocessing the data.</u></b></h1></center>"
   ]
  },
  {
   "cell_type": "code",
   "execution_count": 3,
   "id": "d9b478f7",
   "metadata": {},
   "outputs": [],
   "source": [
    "# loading dataset\n",
    "data = pd.read_csv('combined_shuffled_data.csv')"
   ]
  },
  {
   "cell_type": "code",
   "execution_count": 4,
   "id": "5168904b",
   "metadata": {},
   "outputs": [
    {
     "data": {
      "text/html": [
       "<div>\n",
       "<style scoped>\n",
       "    .dataframe tbody tr th:only-of-type {\n",
       "        vertical-align: middle;\n",
       "    }\n",
       "\n",
       "    .dataframe tbody tr th {\n",
       "        vertical-align: top;\n",
       "    }\n",
       "\n",
       "    .dataframe thead th {\n",
       "        text-align: right;\n",
       "    }\n",
       "</style>\n",
       "<table border=\"1\" class=\"dataframe\">\n",
       "  <thead>\n",
       "    <tr style=\"text-align: right;\">\n",
       "      <th></th>\n",
       "      <th>Class</th>\n",
       "      <th>x0</th>\n",
       "      <th>y0</th>\n",
       "      <th>x1</th>\n",
       "      <th>y1</th>\n",
       "      <th>x2</th>\n",
       "      <th>y2</th>\n",
       "      <th>x3</th>\n",
       "      <th>y3</th>\n",
       "      <th>x4</th>\n",
       "      <th>...</th>\n",
       "      <th>x16</th>\n",
       "      <th>y16</th>\n",
       "      <th>x17</th>\n",
       "      <th>y17</th>\n",
       "      <th>x18</th>\n",
       "      <th>y18</th>\n",
       "      <th>x19</th>\n",
       "      <th>y19</th>\n",
       "      <th>x20</th>\n",
       "      <th>y20</th>\n",
       "    </tr>\n",
       "  </thead>\n",
       "  <tbody>\n",
       "    <tr>\n",
       "      <th>0</th>\n",
       "      <td>Great</td>\n",
       "      <td>0.000000</td>\n",
       "      <td>0.358014</td>\n",
       "      <td>0.028633</td>\n",
       "      <td>0.261807</td>\n",
       "      <td>0.080479</td>\n",
       "      <td>0.150481</td>\n",
       "      <td>0.092550</td>\n",
       "      <td>0.069403</td>\n",
       "      <td>0.073313</td>\n",
       "      <td>...</td>\n",
       "      <td>0.114179</td>\n",
       "      <td>0.336331</td>\n",
       "      <td>0.067307</td>\n",
       "      <td>0.412967</td>\n",
       "      <td>0.156017</td>\n",
       "      <td>0.406986</td>\n",
       "      <td>0.135666</td>\n",
       "      <td>0.398904</td>\n",
       "      <td>0.102342</td>\n",
       "      <td>0.395739</td>\n",
       "    </tr>\n",
       "    <tr>\n",
       "      <th>1</th>\n",
       "      <td>w</td>\n",
       "      <td>0.114410</td>\n",
       "      <td>0.452124</td>\n",
       "      <td>0.151697</td>\n",
       "      <td>0.403126</td>\n",
       "      <td>0.151672</td>\n",
       "      <td>0.322970</td>\n",
       "      <td>0.093860</td>\n",
       "      <td>0.282089</td>\n",
       "      <td>0.040309</td>\n",
       "      <td>...</td>\n",
       "      <td>0.000000</td>\n",
       "      <td>0.052778</td>\n",
       "      <td>0.046492</td>\n",
       "      <td>0.277169</td>\n",
       "      <td>0.043222</td>\n",
       "      <td>0.244667</td>\n",
       "      <td>0.062870</td>\n",
       "      <td>0.277879</td>\n",
       "      <td>0.076489</td>\n",
       "      <td>0.310675</td>\n",
       "    </tr>\n",
       "    <tr>\n",
       "      <th>2</th>\n",
       "      <td>Yes</td>\n",
       "      <td>0.232559</td>\n",
       "      <td>0.112246</td>\n",
       "      <td>0.128020</td>\n",
       "      <td>0.138899</td>\n",
       "      <td>0.045302</td>\n",
       "      <td>0.133864</td>\n",
       "      <td>0.000000</td>\n",
       "      <td>0.137898</td>\n",
       "      <td>0.018563</td>\n",
       "      <td>...</td>\n",
       "      <td>0.160937</td>\n",
       "      <td>0.121955</td>\n",
       "      <td>0.207653</td>\n",
       "      <td>0.037820</td>\n",
       "      <td>0.196609</td>\n",
       "      <td>0.151811</td>\n",
       "      <td>0.203085</td>\n",
       "      <td>0.140578</td>\n",
       "      <td>0.205873</td>\n",
       "      <td>0.095049</td>\n",
       "    </tr>\n",
       "    <tr>\n",
       "      <th>3</th>\n",
       "      <td>p</td>\n",
       "      <td>0.122569</td>\n",
       "      <td>0.008414</td>\n",
       "      <td>0.100475</td>\n",
       "      <td>0.065455</td>\n",
       "      <td>0.075029</td>\n",
       "      <td>0.108107</td>\n",
       "      <td>0.062539</td>\n",
       "      <td>0.145782</td>\n",
       "      <td>0.060839</td>\n",
       "      <td>...</td>\n",
       "      <td>0.049366</td>\n",
       "      <td>0.092668</td>\n",
       "      <td>0.031593</td>\n",
       "      <td>0.000000</td>\n",
       "      <td>0.009215</td>\n",
       "      <td>0.039787</td>\n",
       "      <td>0.023050</td>\n",
       "      <td>0.069980</td>\n",
       "      <td>0.043785</td>\n",
       "      <td>0.080499</td>\n",
       "    </tr>\n",
       "    <tr>\n",
       "      <th>4</th>\n",
       "      <td>m</td>\n",
       "      <td>0.000513</td>\n",
       "      <td>0.000000</td>\n",
       "      <td>0.062006</td>\n",
       "      <td>0.007733</td>\n",
       "      <td>0.107149</td>\n",
       "      <td>0.063988</td>\n",
       "      <td>0.109499</td>\n",
       "      <td>0.138805</td>\n",
       "      <td>0.091431</td>\n",
       "      <td>...</td>\n",
       "      <td>0.048110</td>\n",
       "      <td>0.292716</td>\n",
       "      <td>0.000000</td>\n",
       "      <td>0.080267</td>\n",
       "      <td>0.014154</td>\n",
       "      <td>0.167593</td>\n",
       "      <td>0.021055</td>\n",
       "      <td>0.217561</td>\n",
       "      <td>0.025602</td>\n",
       "      <td>0.259582</td>\n",
       "    </tr>\n",
       "  </tbody>\n",
       "</table>\n",
       "<p>5 rows × 43 columns</p>\n",
       "</div>"
      ],
      "text/plain": [
       "   Class        x0        y0        x1        y1        x2        y2  \\\n",
       "0  Great  0.000000  0.358014  0.028633  0.261807  0.080479  0.150481   \n",
       "1      w  0.114410  0.452124  0.151697  0.403126  0.151672  0.322970   \n",
       "2    Yes  0.232559  0.112246  0.128020  0.138899  0.045302  0.133864   \n",
       "3      p  0.122569  0.008414  0.100475  0.065455  0.075029  0.108107   \n",
       "4      m  0.000513  0.000000  0.062006  0.007733  0.107149  0.063988   \n",
       "\n",
       "         x3        y3        x4  ...       x16       y16       x17       y17  \\\n",
       "0  0.092550  0.069403  0.073313  ...  0.114179  0.336331  0.067307  0.412967   \n",
       "1  0.093860  0.282089  0.040309  ...  0.000000  0.052778  0.046492  0.277169   \n",
       "2  0.000000  0.137898  0.018563  ...  0.160937  0.121955  0.207653  0.037820   \n",
       "3  0.062539  0.145782  0.060839  ...  0.049366  0.092668  0.031593  0.000000   \n",
       "4  0.109499  0.138805  0.091431  ...  0.048110  0.292716  0.000000  0.080267   \n",
       "\n",
       "        x18       y18       x19       y19       x20       y20  \n",
       "0  0.156017  0.406986  0.135666  0.398904  0.102342  0.395739  \n",
       "1  0.043222  0.244667  0.062870  0.277879  0.076489  0.310675  \n",
       "2  0.196609  0.151811  0.203085  0.140578  0.205873  0.095049  \n",
       "3  0.009215  0.039787  0.023050  0.069980  0.043785  0.080499  \n",
       "4  0.014154  0.167593  0.021055  0.217561  0.025602  0.259582  \n",
       "\n",
       "[5 rows x 43 columns]"
      ]
     },
     "execution_count": 4,
     "metadata": {},
     "output_type": "execute_result"
    }
   ],
   "source": [
    "data.head()"
   ]
  },
  {
   "cell_type": "code",
   "execution_count": 5,
   "id": "71c39497",
   "metadata": {},
   "outputs": [
    {
     "name": "stdout",
     "output_type": "stream",
     "text": [
      "<class 'pandas.core.frame.DataFrame'>\n",
      "RangeIndex: 77996 entries, 0 to 77995\n",
      "Data columns (total 43 columns):\n",
      " #   Column  Non-Null Count  Dtype  \n",
      "---  ------  --------------  -----  \n",
      " 0   Class   77996 non-null  object \n",
      " 1   x0      77996 non-null  float64\n",
      " 2   y0      77996 non-null  float64\n",
      " 3   x1      77996 non-null  float64\n",
      " 4   y1      77996 non-null  float64\n",
      " 5   x2      77996 non-null  float64\n",
      " 6   y2      77996 non-null  float64\n",
      " 7   x3      77996 non-null  float64\n",
      " 8   y3      77996 non-null  float64\n",
      " 9   x4      77996 non-null  float64\n",
      " 10  y4      77996 non-null  float64\n",
      " 11  x5      77996 non-null  float64\n",
      " 12  y5      77996 non-null  float64\n",
      " 13  x6      77996 non-null  float64\n",
      " 14  y6      77996 non-null  float64\n",
      " 15  x7      77996 non-null  float64\n",
      " 16  y7      77996 non-null  float64\n",
      " 17  x8      77996 non-null  float64\n",
      " 18  y8      77996 non-null  float64\n",
      " 19  x9      77996 non-null  float64\n",
      " 20  y9      77996 non-null  float64\n",
      " 21  x10     77996 non-null  float64\n",
      " 22  y10     77996 non-null  float64\n",
      " 23  x11     77996 non-null  float64\n",
      " 24  y11     77996 non-null  float64\n",
      " 25  x12     77996 non-null  float64\n",
      " 26  y12     77996 non-null  float64\n",
      " 27  x13     77996 non-null  float64\n",
      " 28  y13     77996 non-null  float64\n",
      " 29  x14     77996 non-null  float64\n",
      " 30  y14     77996 non-null  float64\n",
      " 31  x15     77996 non-null  float64\n",
      " 32  y15     77996 non-null  float64\n",
      " 33  x16     77996 non-null  float64\n",
      " 34  y16     77996 non-null  float64\n",
      " 35  x17     77996 non-null  float64\n",
      " 36  y17     77996 non-null  float64\n",
      " 37  x18     77996 non-null  float64\n",
      " 38  y18     77996 non-null  float64\n",
      " 39  x19     77996 non-null  float64\n",
      " 40  y19     77996 non-null  float64\n",
      " 41  x20     77996 non-null  float64\n",
      " 42  y20     77996 non-null  float64\n",
      "dtypes: float64(42), object(1)\n",
      "memory usage: 25.6+ MB\n"
     ]
    }
   ],
   "source": [
    "data.info()"
   ]
  },
  {
   "cell_type": "code",
   "execution_count": 6,
   "id": "ddf24859",
   "metadata": {},
   "outputs": [
    {
     "data": {
      "text/html": [
       "<div>\n",
       "<style scoped>\n",
       "    .dataframe tbody tr th:only-of-type {\n",
       "        vertical-align: middle;\n",
       "    }\n",
       "\n",
       "    .dataframe tbody tr th {\n",
       "        vertical-align: top;\n",
       "    }\n",
       "\n",
       "    .dataframe thead th {\n",
       "        text-align: right;\n",
       "    }\n",
       "</style>\n",
       "<table border=\"1\" class=\"dataframe\">\n",
       "  <thead>\n",
       "    <tr style=\"text-align: right;\">\n",
       "      <th></th>\n",
       "      <th>Class</th>\n",
       "      <th>x0</th>\n",
       "      <th>y0</th>\n",
       "      <th>x1</th>\n",
       "      <th>y1</th>\n",
       "      <th>x2</th>\n",
       "      <th>y2</th>\n",
       "      <th>x3</th>\n",
       "      <th>y3</th>\n",
       "      <th>x4</th>\n",
       "      <th>...</th>\n",
       "      <th>x16</th>\n",
       "      <th>y16</th>\n",
       "      <th>x17</th>\n",
       "      <th>y17</th>\n",
       "      <th>x18</th>\n",
       "      <th>y18</th>\n",
       "      <th>x19</th>\n",
       "      <th>y19</th>\n",
       "      <th>x20</th>\n",
       "      <th>y20</th>\n",
       "    </tr>\n",
       "  </thead>\n",
       "  <tbody>\n",
       "    <tr>\n",
       "      <th>count</th>\n",
       "      <td>77996</td>\n",
       "      <td>77996.000000</td>\n",
       "      <td>77996.000000</td>\n",
       "      <td>77996.000000</td>\n",
       "      <td>77996.000000</td>\n",
       "      <td>77996.000000</td>\n",
       "      <td>77996.000000</td>\n",
       "      <td>77996.000000</td>\n",
       "      <td>77996.000000</td>\n",
       "      <td>77996.000000</td>\n",
       "      <td>...</td>\n",
       "      <td>77996.000000</td>\n",
       "      <td>77996.000000</td>\n",
       "      <td>77996.000000</td>\n",
       "      <td>77996.000000</td>\n",
       "      <td>77996.000000</td>\n",
       "      <td>77996.000000</td>\n",
       "      <td>77996.000000</td>\n",
       "      <td>77996.000000</td>\n",
       "      <td>77996.000000</td>\n",
       "      <td>77996.000000</td>\n",
       "    </tr>\n",
       "    <tr>\n",
       "      <th>unique</th>\n",
       "      <td>32</td>\n",
       "      <td>NaN</td>\n",
       "      <td>NaN</td>\n",
       "      <td>NaN</td>\n",
       "      <td>NaN</td>\n",
       "      <td>NaN</td>\n",
       "      <td>NaN</td>\n",
       "      <td>NaN</td>\n",
       "      <td>NaN</td>\n",
       "      <td>NaN</td>\n",
       "      <td>...</td>\n",
       "      <td>NaN</td>\n",
       "      <td>NaN</td>\n",
       "      <td>NaN</td>\n",
       "      <td>NaN</td>\n",
       "      <td>NaN</td>\n",
       "      <td>NaN</td>\n",
       "      <td>NaN</td>\n",
       "      <td>NaN</td>\n",
       "      <td>NaN</td>\n",
       "      <td>NaN</td>\n",
       "    </tr>\n",
       "    <tr>\n",
       "      <th>top</th>\n",
       "      <td>e</td>\n",
       "      <td>NaN</td>\n",
       "      <td>NaN</td>\n",
       "      <td>NaN</td>\n",
       "      <td>NaN</td>\n",
       "      <td>NaN</td>\n",
       "      <td>NaN</td>\n",
       "      <td>NaN</td>\n",
       "      <td>NaN</td>\n",
       "      <td>NaN</td>\n",
       "      <td>...</td>\n",
       "      <td>NaN</td>\n",
       "      <td>NaN</td>\n",
       "      <td>NaN</td>\n",
       "      <td>NaN</td>\n",
       "      <td>NaN</td>\n",
       "      <td>NaN</td>\n",
       "      <td>NaN</td>\n",
       "      <td>NaN</td>\n",
       "      <td>NaN</td>\n",
       "      <td>NaN</td>\n",
       "    </tr>\n",
       "    <tr>\n",
       "      <th>freq</th>\n",
       "      <td>2494</td>\n",
       "      <td>NaN</td>\n",
       "      <td>NaN</td>\n",
       "      <td>NaN</td>\n",
       "      <td>NaN</td>\n",
       "      <td>NaN</td>\n",
       "      <td>NaN</td>\n",
       "      <td>NaN</td>\n",
       "      <td>NaN</td>\n",
       "      <td>NaN</td>\n",
       "      <td>...</td>\n",
       "      <td>NaN</td>\n",
       "      <td>NaN</td>\n",
       "      <td>NaN</td>\n",
       "      <td>NaN</td>\n",
       "      <td>NaN</td>\n",
       "      <td>NaN</td>\n",
       "      <td>NaN</td>\n",
       "      <td>NaN</td>\n",
       "      <td>NaN</td>\n",
       "      <td>NaN</td>\n",
       "    </tr>\n",
       "    <tr>\n",
       "      <th>mean</th>\n",
       "      <td>NaN</td>\n",
       "      <td>0.110504</td>\n",
       "      <td>0.377619</td>\n",
       "      <td>0.122381</td>\n",
       "      <td>0.338972</td>\n",
       "      <td>0.129780</td>\n",
       "      <td>0.277365</td>\n",
       "      <td>0.127690</td>\n",
       "      <td>0.231496</td>\n",
       "      <td>0.121632</td>\n",
       "      <td>...</td>\n",
       "      <td>0.109122</td>\n",
       "      <td>0.211407</td>\n",
       "      <td>0.091995</td>\n",
       "      <td>0.220151</td>\n",
       "      <td>0.092014</td>\n",
       "      <td>0.202622</td>\n",
       "      <td>0.095274</td>\n",
       "      <td>0.215112</td>\n",
       "      <td>0.096765</td>\n",
       "      <td>0.215827</td>\n",
       "    </tr>\n",
       "    <tr>\n",
       "      <th>std</th>\n",
       "      <td>NaN</td>\n",
       "      <td>0.095118</td>\n",
       "      <td>0.189739</td>\n",
       "      <td>0.076091</td>\n",
       "      <td>0.169474</td>\n",
       "      <td>0.086244</td>\n",
       "      <td>0.138575</td>\n",
       "      <td>0.094847</td>\n",
       "      <td>0.126275</td>\n",
       "      <td>0.107222</td>\n",
       "      <td>...</td>\n",
       "      <td>0.067451</td>\n",
       "      <td>0.146821</td>\n",
       "      <td>0.100967</td>\n",
       "      <td>0.135066</td>\n",
       "      <td>0.093252</td>\n",
       "      <td>0.131293</td>\n",
       "      <td>0.086646</td>\n",
       "      <td>0.148408</td>\n",
       "      <td>0.086233</td>\n",
       "      <td>0.163949</td>\n",
       "    </tr>\n",
       "    <tr>\n",
       "      <th>min</th>\n",
       "      <td>NaN</td>\n",
       "      <td>0.000000</td>\n",
       "      <td>0.000000</td>\n",
       "      <td>0.000000</td>\n",
       "      <td>0.000000</td>\n",
       "      <td>0.000000</td>\n",
       "      <td>0.000000</td>\n",
       "      <td>0.000000</td>\n",
       "      <td>0.000000</td>\n",
       "      <td>0.000000</td>\n",
       "      <td>...</td>\n",
       "      <td>0.000000</td>\n",
       "      <td>0.000000</td>\n",
       "      <td>0.000000</td>\n",
       "      <td>0.000000</td>\n",
       "      <td>0.000000</td>\n",
       "      <td>0.000000</td>\n",
       "      <td>0.000000</td>\n",
       "      <td>0.000000</td>\n",
       "      <td>0.000000</td>\n",
       "      <td>0.000000</td>\n",
       "    </tr>\n",
       "    <tr>\n",
       "      <th>25%</th>\n",
       "      <td>NaN</td>\n",
       "      <td>0.033131</td>\n",
       "      <td>0.263695</td>\n",
       "      <td>0.070242</td>\n",
       "      <td>0.220656</td>\n",
       "      <td>0.060927</td>\n",
       "      <td>0.167405</td>\n",
       "      <td>0.055898</td>\n",
       "      <td>0.130672</td>\n",
       "      <td>0.041936</td>\n",
       "      <td>...</td>\n",
       "      <td>0.058867</td>\n",
       "      <td>0.092523</td>\n",
       "      <td>0.002241</td>\n",
       "      <td>0.113505</td>\n",
       "      <td>0.012188</td>\n",
       "      <td>0.092021</td>\n",
       "      <td>0.023455</td>\n",
       "      <td>0.097001</td>\n",
       "      <td>0.027947</td>\n",
       "      <td>0.099249</td>\n",
       "    </tr>\n",
       "    <tr>\n",
       "      <th>50%</th>\n",
       "      <td>NaN</td>\n",
       "      <td>0.091136</td>\n",
       "      <td>0.381840</td>\n",
       "      <td>0.111996</td>\n",
       "      <td>0.329474</td>\n",
       "      <td>0.123015</td>\n",
       "      <td>0.256141</td>\n",
       "      <td>0.115935</td>\n",
       "      <td>0.219159</td>\n",
       "      <td>0.099783</td>\n",
       "      <td>...</td>\n",
       "      <td>0.099556</td>\n",
       "      <td>0.189593</td>\n",
       "      <td>0.053782</td>\n",
       "      <td>0.204254</td>\n",
       "      <td>0.053058</td>\n",
       "      <td>0.184996</td>\n",
       "      <td>0.065832</td>\n",
       "      <td>0.179754</td>\n",
       "      <td>0.074960</td>\n",
       "      <td>0.170955</td>\n",
       "    </tr>\n",
       "    <tr>\n",
       "      <th>75%</th>\n",
       "      <td>NaN</td>\n",
       "      <td>0.167133</td>\n",
       "      <td>0.509206</td>\n",
       "      <td>0.163596</td>\n",
       "      <td>0.450342</td>\n",
       "      <td>0.178364</td>\n",
       "      <td>0.368192</td>\n",
       "      <td>0.178119</td>\n",
       "      <td>0.311323</td>\n",
       "      <td>0.173822</td>\n",
       "      <td>...</td>\n",
       "      <td>0.145799</td>\n",
       "      <td>0.302934</td>\n",
       "      <td>0.166483</td>\n",
       "      <td>0.321730</td>\n",
       "      <td>0.160295</td>\n",
       "      <td>0.290992</td>\n",
       "      <td>0.155102</td>\n",
       "      <td>0.312752</td>\n",
       "      <td>0.148993</td>\n",
       "      <td>0.326916</td>\n",
       "    </tr>\n",
       "    <tr>\n",
       "      <th>max</th>\n",
       "      <td>NaN</td>\n",
       "      <td>0.625444</td>\n",
       "      <td>1.003385</td>\n",
       "      <td>0.541249</td>\n",
       "      <td>0.938680</td>\n",
       "      <td>0.573792</td>\n",
       "      <td>0.864445</td>\n",
       "      <td>0.589164</td>\n",
       "      <td>0.829285</td>\n",
       "      <td>0.705258</td>\n",
       "      <td>...</td>\n",
       "      <td>0.484889</td>\n",
       "      <td>0.855464</td>\n",
       "      <td>0.579349</td>\n",
       "      <td>0.816353</td>\n",
       "      <td>0.497468</td>\n",
       "      <td>0.781515</td>\n",
       "      <td>0.527605</td>\n",
       "      <td>0.818250</td>\n",
       "      <td>0.555663</td>\n",
       "      <td>0.858478</td>\n",
       "    </tr>\n",
       "  </tbody>\n",
       "</table>\n",
       "<p>11 rows × 43 columns</p>\n",
       "</div>"
      ],
      "text/plain": [
       "        Class            x0            y0            x1            y1  \\\n",
       "count   77996  77996.000000  77996.000000  77996.000000  77996.000000   \n",
       "unique     32           NaN           NaN           NaN           NaN   \n",
       "top         e           NaN           NaN           NaN           NaN   \n",
       "freq     2494           NaN           NaN           NaN           NaN   \n",
       "mean      NaN      0.110504      0.377619      0.122381      0.338972   \n",
       "std       NaN      0.095118      0.189739      0.076091      0.169474   \n",
       "min       NaN      0.000000      0.000000      0.000000      0.000000   \n",
       "25%       NaN      0.033131      0.263695      0.070242      0.220656   \n",
       "50%       NaN      0.091136      0.381840      0.111996      0.329474   \n",
       "75%       NaN      0.167133      0.509206      0.163596      0.450342   \n",
       "max       NaN      0.625444      1.003385      0.541249      0.938680   \n",
       "\n",
       "                  x2            y2            x3            y3            x4  \\\n",
       "count   77996.000000  77996.000000  77996.000000  77996.000000  77996.000000   \n",
       "unique           NaN           NaN           NaN           NaN           NaN   \n",
       "top              NaN           NaN           NaN           NaN           NaN   \n",
       "freq             NaN           NaN           NaN           NaN           NaN   \n",
       "mean        0.129780      0.277365      0.127690      0.231496      0.121632   \n",
       "std         0.086244      0.138575      0.094847      0.126275      0.107222   \n",
       "min         0.000000      0.000000      0.000000      0.000000      0.000000   \n",
       "25%         0.060927      0.167405      0.055898      0.130672      0.041936   \n",
       "50%         0.123015      0.256141      0.115935      0.219159      0.099783   \n",
       "75%         0.178364      0.368192      0.178119      0.311323      0.173822   \n",
       "max         0.573792      0.864445      0.589164      0.829285      0.705258   \n",
       "\n",
       "        ...           x16           y16           x17           y17  \\\n",
       "count   ...  77996.000000  77996.000000  77996.000000  77996.000000   \n",
       "unique  ...           NaN           NaN           NaN           NaN   \n",
       "top     ...           NaN           NaN           NaN           NaN   \n",
       "freq    ...           NaN           NaN           NaN           NaN   \n",
       "mean    ...      0.109122      0.211407      0.091995      0.220151   \n",
       "std     ...      0.067451      0.146821      0.100967      0.135066   \n",
       "min     ...      0.000000      0.000000      0.000000      0.000000   \n",
       "25%     ...      0.058867      0.092523      0.002241      0.113505   \n",
       "50%     ...      0.099556      0.189593      0.053782      0.204254   \n",
       "75%     ...      0.145799      0.302934      0.166483      0.321730   \n",
       "max     ...      0.484889      0.855464      0.579349      0.816353   \n",
       "\n",
       "                 x18           y18           x19           y19           x20  \\\n",
       "count   77996.000000  77996.000000  77996.000000  77996.000000  77996.000000   \n",
       "unique           NaN           NaN           NaN           NaN           NaN   \n",
       "top              NaN           NaN           NaN           NaN           NaN   \n",
       "freq             NaN           NaN           NaN           NaN           NaN   \n",
       "mean        0.092014      0.202622      0.095274      0.215112      0.096765   \n",
       "std         0.093252      0.131293      0.086646      0.148408      0.086233   \n",
       "min         0.000000      0.000000      0.000000      0.000000      0.000000   \n",
       "25%         0.012188      0.092021      0.023455      0.097001      0.027947   \n",
       "50%         0.053058      0.184996      0.065832      0.179754      0.074960   \n",
       "75%         0.160295      0.290992      0.155102      0.312752      0.148993   \n",
       "max         0.497468      0.781515      0.527605      0.818250      0.555663   \n",
       "\n",
       "                 y20  \n",
       "count   77996.000000  \n",
       "unique           NaN  \n",
       "top              NaN  \n",
       "freq             NaN  \n",
       "mean        0.215827  \n",
       "std         0.163949  \n",
       "min         0.000000  \n",
       "25%         0.099249  \n",
       "50%         0.170955  \n",
       "75%         0.326916  \n",
       "max         0.858478  \n",
       "\n",
       "[11 rows x 43 columns]"
      ]
     },
     "execution_count": 6,
     "metadata": {},
     "output_type": "execute_result"
    }
   ],
   "source": [
    "data.describe(include = 'all')"
   ]
  },
  {
   "cell_type": "code",
   "execution_count": 7,
   "id": "2961b758",
   "metadata": {},
   "outputs": [
    {
     "data": {
      "image/png": "[encoded data removed]",
      "text/plain": [
       "<Figure size 640x480 with 1 Axes>"
      ]
     },
     "metadata": {},
     "output_type": "display_data"
    }
   ],
   "source": [
    "import matplotlib.pyplot as plt\n",
    "import pandas as pd  # Assuming you have data as a pandas DataFrame\n",
    "\n",
    "df = pd.DataFrame(data)\n",
    "\n",
    "# Calculate value counts\n",
    "class_counts = df['Class'].value_counts()\n",
    "\n",
    "plt.bar(class_counts.index, class_counts.values, width=0.3)\n",
    "\n",
    "# Rotate x-axis labels for better readability (adjust angle as needed)\n",
    "plt.xticks(rotation= 90)  # Rotate labels by 45 degrees\n",
    "\n",
    "plt.xlabel(\"Class\")\n",
    "plt.ylabel(\"Count\")\n",
    "plt.title(\"Class Distribution\")\n",
    "plt.show()"
   ]
  },
  {
   "cell_type": "markdown",
   "id": "252b958a",
   "metadata": {},
   "source": [
    "<center><h1><b><u>Training the models.</u></b></h1></center>"
   ]
  },
  {
   "cell_type": "code",
   "execution_count": 8,
   "id": "2f3d3bc4",
   "metadata": {},
   "outputs": [],
   "source": [
    "X = data.drop(columns=[\"Class\"])  # Features\n",
    "y = data[\"Class\"]  # Target labels"
   ]
  },
  {
   "cell_type": "code",
   "execution_count": 12,
   "id": "24f0ef43",
   "metadata": {},
   "outputs": [],
   "source": [
    "from sklearn.model_selection import train_test_split\n",
    "\n",
    "X_train, X_test, y_train, y_test = train_test_split(X, y, test_size=0.2, random_state=42)"
   ]
  },
  {
   "cell_type": "code",
   "execution_count": 13,
   "id": "7c0865cd",
   "metadata": {},
   "outputs": [],
   "source": [
    "from sklearn.metrics import accuracy_score, classification_report\n",
    "def acc(y_test,y_pred):\n",
    "    accuracy = accuracy_score(y_test, y_pred)\n",
    "    classification_report_str = classification_report(y_test, y_pred)\n",
    "\n",
    "    print(f\"Accuracy: {accuracy:.2f}\")\n",
    "    print(\"Classification Report:\")\n",
    "    print(classification_report_str)"
   ]
  },
  {
   "cell_type": "markdown",
   "id": "88999861",
   "metadata": {},
   "source": [
    "<center><h1><b><u>Support Vector Machines(SVM)</u></b></h1></center>"
   ]
  },
  {
   "cell_type": "code",
   "execution_count": 14,
   "id": "14eab4e0",
   "metadata": {},
   "outputs": [
    {
     "data": {
      "text/html": [
       "<style>#sk-container-id-1 {color: black;}#sk-container-id-1 pre{padding: 0;}#sk-container-id-1 div.sk-toggleable {background-color: white;}#sk-container-id-1 label.sk-toggleable__label {cursor: pointer;display: block;width: 100%;margin-bottom: 0;padding: 0.3em;box-sizing: border-box;text-align: center;}#sk-container-id-1 label.sk-toggleable__label-arrow:before {content: \"▸\";float: left;margin-right: 0.25em;color: #696969;}#sk-container-id-1 label.sk-toggleable__label-arrow:hover:before {color: black;}#sk-container-id-1 div.sk-estimator:hover label.sk-toggleable__label-arrow:before {color: black;}#sk-container-id-1 div.sk-toggleable__content {max-height: 0;max-width: 0;overflow: hidden;text-align: left;background-color: #f0f8ff;}#sk-container-id-1 div.sk-toggleable__content pre {margin: 0.2em;color: black;border-radius: 0.25em;background-color: #f0f8ff;}#sk-container-id-1 input.sk-toggleable__control:checked~div.sk-toggleable__content {max-height: 200px;max-width: 100%;overflow: auto;}#sk-container-id-1 input.sk-toggleable__control:checked~label.sk-toggleable__label-arrow:before {content: \"▾\";}#sk-container-id-1 div.sk-estimator input.sk-toggleable__control:checked~label.sk-toggleable__label {background-color: #d4ebff;}#sk-container-id-1 div.sk-label input.sk-toggleable__control:checked~label.sk-toggleable__label {background-color: #d4ebff;}#sk-container-id-1 input.sk-hidden--visually {border: 0;clip: rect(1px 1px 1px 1px);clip: rect(1px, 1px, 1px, 1px);height: 1px;margin: -1px;overflow: hidden;padding: 0;position: absolute;width: 1px;}#sk-container-id-1 div.sk-estimator {font-family: monospace;background-color: #f0f8ff;border: 1px dotted black;border-radius: 0.25em;box-sizing: border-box;margin-bottom: 0.5em;}#sk-container-id-1 div.sk-estimator:hover {background-color: #d4ebff;}#sk-container-id-1 div.sk-parallel-item::after {content: \"\";width: 100%;border-bottom: 1px solid gray;flex-grow: 1;}#sk-container-id-1 div.sk-label:hover label.sk-toggleable__label {background-color: #d4ebff;}#sk-container-id-1 div.sk-serial::before {content: \"\";position: absolute;border-left: 1px solid gray;box-sizing: border-box;top: 0;bottom: 0;left: 50%;z-index: 0;}#sk-container-id-1 div.sk-serial {display: flex;flex-direction: column;align-items: center;background-color: white;padding-right: 0.2em;padding-left: 0.2em;position: relative;}#sk-container-id-1 div.sk-item {position: relative;z-index: 1;}#sk-container-id-1 div.sk-parallel {display: flex;align-items: stretch;justify-content: center;background-color: white;position: relative;}#sk-container-id-1 div.sk-item::before, #sk-container-id-1 div.sk-parallel-item::before {content: \"\";position: absolute;border-left: 1px solid gray;box-sizing: border-box;top: 0;bottom: 0;left: 50%;z-index: -1;}#sk-container-id-1 div.sk-parallel-item {display: flex;flex-direction: column;z-index: 1;position: relative;background-color: white;}#sk-container-id-1 div.sk-parallel-item:first-child::after {align-self: flex-end;width: 50%;}#sk-container-id-1 div.sk-parallel-item:last-child::after {align-self: flex-start;width: 50%;}#sk-container-id-1 div.sk-parallel-item:only-child::after {width: 0;}#sk-container-id-1 div.sk-dashed-wrapped {border: 1px dashed gray;margin: 0 0.4em 0.5em 0.4em;box-sizing: border-box;padding-bottom: 0.4em;background-color: white;}#sk-container-id-1 div.sk-label label {font-family: monospace;font-weight: bold;display: inline-block;line-height: 1.2em;}#sk-container-id-1 div.sk-label-container {text-align: center;}#sk-container-id-1 div.sk-container {/* jupyter's `normalize.less` sets `[hidden] { display: none; }` but bootstrap.min.css set `[hidden] { display: none !important; }` so we also need the `!important` here to be able to override the default hidden behavior on the sphinx rendered scikit-learn.org. See: https://github.com/scikit-learn/scikit-learn/issues/21755 */display: inline-block !important;position: relative;}#sk-container-id-1 div.sk-text-repr-fallback {display: none;}</style><div id=\"sk-container-id-1\" class=\"sk-top-container\"><div class=\"sk-text-repr-fallback\"><pre>SVC(kernel=&#x27;linear&#x27;)</pre><b>In a Jupyter environment, please rerun this cell to show the HTML representation or trust the notebook. <br />On GitHub, the HTML representation is unable to render, please try loading this page with nbviewer.org.</b></div><div class=\"sk-container\" hidden><div class=\"sk-item\"><div class=\"sk-estimator sk-toggleable\"><input class=\"sk-toggleable__control sk-hidden--visually\" id=\"sk-estimator-id-1\" type=\"checkbox\" checked><label for=\"sk-estimator-id-1\" class=\"sk-toggleable__label sk-toggleable__label-arrow\">SVC</label><div class=\"sk-toggleable__content\"><pre>SVC(kernel=&#x27;linear&#x27;)</pre></div></div></div></div></div>"
      ],
      "text/plain": [
       "SVC(kernel='linear')"
      ]
     },
     "execution_count": 14,
     "metadata": {},
     "output_type": "execute_result"
    }
   ],
   "source": [
    "from sklearn.svm import SVC\n",
    "svm_classifier = SVC(kernel='linear')  # Linear kernel (you can try other kernels)\n",
    "svm_classifier.fit(X_train, y_train)"
   ]
  },
  {
   "cell_type": "code",
   "execution_count": 15,
   "id": "a64070aa",
   "metadata": {},
   "outputs": [],
   "source": [
    "y_pred = svm_classifier.predict(X_test)"
   ]
  },
  {
   "cell_type": "code",
   "execution_count": 16,
   "id": "c0337829",
   "metadata": {
    "scrolled": true
   },
   "outputs": [
    {
     "name": "stdout",
     "output_type": "stream",
     "text": [
      "Accuracy: 0.97\n",
      "Classification Report:\n",
      "              precision    recall  f1-score   support\n",
      "\n",
      "       Great       1.00      0.98      0.99       502\n",
      "       Hello       0.99      1.00      0.99       493\n",
      "  I love you       1.00      1.00      1.00       479\n",
      "          No       0.97      0.99      0.98       503\n",
      "   Thank you       0.98      1.00      0.99       492\n",
      "         Yes       0.99      0.99      0.99       475\n",
      "           a       0.99      1.00      0.99       510\n",
      "           b       0.99      0.99      0.99       490\n",
      "           c       1.00      1.00      1.00       512\n",
      "           d       0.99      0.97      0.98       489\n",
      "           e       0.99      0.96      0.98       514\n",
      "           f       1.00      0.99      0.99       497\n",
      "           g       0.97      0.98      0.98       498\n",
      "           h       0.92      0.91      0.92       471\n",
      "           i       0.96      1.00      0.98       486\n",
      "           j       1.00      0.99      0.99       535\n",
      "           k       1.00      0.99      1.00       463\n",
      "           l       0.96      1.00      0.98       486\n",
      "           m       0.99      1.00      0.99       481\n",
      "           n       0.99      0.99      0.99       479\n",
      "           o       0.96      0.99      0.98       486\n",
      "           p       0.95      0.95      0.95       526\n",
      "           q       0.91      0.84      0.87       302\n",
      "           r       0.87      0.84      0.86       503\n",
      "           s       0.99      1.00      0.99       485\n",
      "           t       0.98      1.00      0.99       477\n",
      "           u       0.88      0.89      0.88       514\n",
      "           v       0.91      0.94      0.92       451\n",
      "           w       1.00      0.99      1.00       487\n",
      "           x       0.97      0.84      0.90       509\n",
      "           y       1.00      0.97      0.98       506\n",
      "           z       0.89      0.96      0.92       499\n",
      "\n",
      "    accuracy                           0.97     15600\n",
      "   macro avg       0.97      0.97      0.97     15600\n",
      "weighted avg       0.97      0.97      0.97     15600\n",
      "\n"
     ]
    }
   ],
   "source": [
    "acc(y_test,y_pred)"
   ]
  },
  {
   "cell_type": "code",
   "execution_count": 17,
   "id": "8118e5ea",
   "metadata": {},
   "outputs": [
    {
     "data": {
      "text/plain": [
       "['Models\\\\svm.h5']"
      ]
     },
     "execution_count": 17,
     "metadata": {},
     "output_type": "execute_result"
    }
   ],
   "source": [
    "import joblib\n",
    "import os\n",
    "joblib.dump(svm_classifier,os.path.join('Models','svm.h5'))"
   ]
  },
  {
   "cell_type": "markdown",
   "id": "e896ef63",
   "metadata": {},
   "source": [
    "<center><h1><b><u>Decision Trees</u></b></h1></center>"
   ]
  },
  {
   "cell_type": "code",
   "execution_count": 18,
   "id": "9d048077",
   "metadata": {},
   "outputs": [
    {
     "data": {
      "text/html": [
       "<style>#sk-container-id-2 {color: black;}#sk-container-id-2 pre{padding: 0;}#sk-container-id-2 div.sk-toggleable {background-color: white;}#sk-container-id-2 label.sk-toggleable__label {cursor: pointer;display: block;width: 100%;margin-bottom: 0;padding: 0.3em;box-sizing: border-box;text-align: center;}#sk-container-id-2 label.sk-toggleable__label-arrow:before {content: \"▸\";float: left;margin-right: 0.25em;color: #696969;}#sk-container-id-2 label.sk-toggleable__label-arrow:hover:before {color: black;}#sk-container-id-2 div.sk-estimator:hover label.sk-toggleable__label-arrow:before {color: black;}#sk-container-id-2 div.sk-toggleable__content {max-height: 0;max-width: 0;overflow: hidden;text-align: left;background-color: #f0f8ff;}#sk-container-id-2 div.sk-toggleable__content pre {margin: 0.2em;color: black;border-radius: 0.25em;background-color: #f0f8ff;}#sk-container-id-2 input.sk-toggleable__control:checked~div.sk-toggleable__content {max-height: 200px;max-width: 100%;overflow: auto;}#sk-container-id-2 input.sk-toggleable__control:checked~label.sk-toggleable__label-arrow:before {content: \"▾\";}#sk-container-id-2 div.sk-estimator input.sk-toggleable__control:checked~label.sk-toggleable__label {background-color: #d4ebff;}#sk-container-id-2 div.sk-label input.sk-toggleable__control:checked~label.sk-toggleable__label {background-color: #d4ebff;}#sk-container-id-2 input.sk-hidden--visually {border: 0;clip: rect(1px 1px 1px 1px);clip: rect(1px, 1px, 1px, 1px);height: 1px;margin: -1px;overflow: hidden;padding: 0;position: absolute;width: 1px;}#sk-container-id-2 div.sk-estimator {font-family: monospace;background-color: #f0f8ff;border: 1px dotted black;border-radius: 0.25em;box-sizing: border-box;margin-bottom: 0.5em;}#sk-container-id-2 div.sk-estimator:hover {background-color: #d4ebff;}#sk-container-id-2 div.sk-parallel-item::after {content: \"\";width: 100%;border-bottom: 1px solid gray;flex-grow: 1;}#sk-container-id-2 div.sk-label:hover label.sk-toggleable__label {background-color: #d4ebff;}#sk-container-id-2 div.sk-serial::before {content: \"\";position: absolute;border-left: 1px solid gray;box-sizing: border-box;top: 0;bottom: 0;left: 50%;z-index: 0;}#sk-container-id-2 div.sk-serial {display: flex;flex-direction: column;align-items: center;background-color: white;padding-right: 0.2em;padding-left: 0.2em;position: relative;}#sk-container-id-2 div.sk-item {position: relative;z-index: 1;}#sk-container-id-2 div.sk-parallel {display: flex;align-items: stretch;justify-content: center;background-color: white;position: relative;}#sk-container-id-2 div.sk-item::before, #sk-container-id-2 div.sk-parallel-item::before {content: \"\";position: absolute;border-left: 1px solid gray;box-sizing: border-box;top: 0;bottom: 0;left: 50%;z-index: -1;}#sk-container-id-2 div.sk-parallel-item {display: flex;flex-direction: column;z-index: 1;position: relative;background-color: white;}#sk-container-id-2 div.sk-parallel-item:first-child::after {align-self: flex-end;width: 50%;}#sk-container-id-2 div.sk-parallel-item:last-child::after {align-self: flex-start;width: 50%;}#sk-container-id-2 div.sk-parallel-item:only-child::after {width: 0;}#sk-container-id-2 div.sk-dashed-wrapped {border: 1px dashed gray;margin: 0 0.4em 0.5em 0.4em;box-sizing: border-box;padding-bottom: 0.4em;background-color: white;}#sk-container-id-2 div.sk-label label {font-family: monospace;font-weight: bold;display: inline-block;line-height: 1.2em;}#sk-container-id-2 div.sk-label-container {text-align: center;}#sk-container-id-2 div.sk-container {/* jupyter's `normalize.less` sets `[hidden] { display: none; }` but bootstrap.min.css set `[hidden] { display: none !important; }` so we also need the `!important` here to be able to override the default hidden behavior on the sphinx rendered scikit-learn.org. See: https://github.com/scikit-learn/scikit-learn/issues/21755 */display: inline-block !important;position: relative;}#sk-container-id-2 div.sk-text-repr-fallback {display: none;}</style><div id=\"sk-container-id-2\" class=\"sk-top-container\"><div class=\"sk-text-repr-fallback\"><pre>DecisionTreeClassifier()</pre><b>In a Jupyter environment, please rerun this cell to show the HTML representation or trust the notebook. <br />On GitHub, the HTML representation is unable to render, please try loading this page with nbviewer.org.</b></div><div class=\"sk-container\" hidden><div class=\"sk-item\"><div class=\"sk-estimator sk-toggleable\"><input class=\"sk-toggleable__control sk-hidden--visually\" id=\"sk-estimator-id-2\" type=\"checkbox\" checked><label for=\"sk-estimator-id-2\" class=\"sk-toggleable__label sk-toggleable__label-arrow\">DecisionTreeClassifier</label><div class=\"sk-toggleable__content\"><pre>DecisionTreeClassifier()</pre></div></div></div></div></div>"
      ],
      "text/plain": [
       "DecisionTreeClassifier()"
      ]
     },
     "execution_count": 18,
     "metadata": {},
     "output_type": "execute_result"
    }
   ],
   "source": [
    "from sklearn.tree import DecisionTreeClassifier\n",
    "\n",
    "clf = DecisionTreeClassifier()  # Initialize the decision tree classifier\n",
    "clf.fit(X_train, y_train)  # Fit the classifier on the training data"
   ]
  },
  {
   "cell_type": "code",
   "execution_count": 19,
   "id": "7eb2bad1",
   "metadata": {},
   "outputs": [],
   "source": [
    "y_pred = clf.predict(X_test)"
   ]
  },
  {
   "cell_type": "code",
   "execution_count": 20,
   "id": "d10fa093",
   "metadata": {
    "scrolled": true
   },
   "outputs": [
    {
     "name": "stdout",
     "output_type": "stream",
     "text": [
      "Accuracy: 0.99\n",
      "Classification Report:\n",
      "              precision    recall  f1-score   support\n",
      "\n",
      "       Great       1.00      1.00      1.00       503\n",
      "       Hello       1.00      0.99      0.99       495\n",
      "  I love you       1.00      1.00      1.00       481\n",
      "          No       0.98      0.95      0.96       517\n",
      "   Thank you       1.00      0.99      0.99       496\n",
      "         Yes       0.98      0.99      0.98       470\n",
      "           a       0.99      1.00      1.00       505\n",
      "           b       0.98      0.99      0.99       484\n",
      "           c       0.99      0.99      0.99       512\n",
      "           d       0.98      0.98      0.98       493\n",
      "           e       0.98      0.99      0.98       510\n",
      "           f       0.99      0.99      0.99       496\n",
      "           g       0.99      0.98      0.99       504\n",
      "           h       0.98      0.98      0.98       474\n",
      "           i       0.99      0.99      0.99       486\n",
      "           j       0.98      0.99      0.98       529\n",
      "           k       0.99      0.99      0.99       462\n",
      "           l       0.99      0.99      0.99       484\n",
      "           m       0.98      0.98      0.98       480\n",
      "           n       1.00      0.98      0.99       488\n",
      "           o       0.99      0.98      0.98       492\n",
      "           p       0.98      0.98      0.98       529\n",
      "           q       0.88      0.96      0.92       276\n",
      "           r       0.98      0.98      0.98       503\n",
      "           s       0.99      0.97      0.98       495\n",
      "           t       1.00      1.00      1.00       477\n",
      "           u       0.98      0.98      0.98       510\n",
      "           v       0.99      0.99      0.99       452\n",
      "           w       1.00      1.00      1.00       485\n",
      "           x       0.97      0.97      0.97       509\n",
      "           y       0.98      0.98      0.98       508\n",
      "           z       0.98      0.98      0.98       495\n",
      "\n",
      "    accuracy                           0.99     15600\n",
      "   macro avg       0.98      0.99      0.98     15600\n",
      "weighted avg       0.99      0.99      0.99     15600\n",
      "\n"
     ]
    }
   ],
   "source": [
    "acc(y_pred,y_test)"
   ]
  },
  {
   "cell_type": "code",
   "execution_count": 21,
   "id": "ca89ab17",
   "metadata": {},
   "outputs": [
    {
     "data": {
      "text/plain": [
       "['Models\\\\tree.h5']"
      ]
     },
     "execution_count": 21,
     "metadata": {},
     "output_type": "execute_result"
    }
   ],
   "source": [
    "joblib.dump(clf,os.path.join('Models','tree.h5'))"
   ]
  },
  {
   "cell_type": "markdown",
   "id": "fba329fe",
   "metadata": {},
   "source": [
    "<center><h1><b><u>Random Forests</u></b></h1></center>"
   ]
  },
  {
   "cell_type": "code",
   "execution_count": 22,
   "id": "4d42990b",
   "metadata": {},
   "outputs": [
    {
     "data": {
      "text/html": [
       "<style>#sk-container-id-3 {color: black;}#sk-container-id-3 pre{padding: 0;}#sk-container-id-3 div.sk-toggleable {background-color: white;}#sk-container-id-3 label.sk-toggleable__label {cursor: pointer;display: block;width: 100%;margin-bottom: 0;padding: 0.3em;box-sizing: border-box;text-align: center;}#sk-container-id-3 label.sk-toggleable__label-arrow:before {content: \"▸\";float: left;margin-right: 0.25em;color: #696969;}#sk-container-id-3 label.sk-toggleable__label-arrow:hover:before {color: black;}#sk-container-id-3 div.sk-estimator:hover label.sk-toggleable__label-arrow:before {color: black;}#sk-container-id-3 div.sk-toggleable__content {max-height: 0;max-width: 0;overflow: hidden;text-align: left;background-color: #f0f8ff;}#sk-container-id-3 div.sk-toggleable__content pre {margin: 0.2em;color: black;border-radius: 0.25em;background-color: #f0f8ff;}#sk-container-id-3 input.sk-toggleable__control:checked~div.sk-toggleable__content {max-height: 200px;max-width: 100%;overflow: auto;}#sk-container-id-3 input.sk-toggleable__control:checked~label.sk-toggleable__label-arrow:before {content: \"▾\";}#sk-container-id-3 div.sk-estimator input.sk-toggleable__control:checked~label.sk-toggleable__label {background-color: #d4ebff;}#sk-container-id-3 div.sk-label input.sk-toggleable__control:checked~label.sk-toggleable__label {background-color: #d4ebff;}#sk-container-id-3 input.sk-hidden--visually {border: 0;clip: rect(1px 1px 1px 1px);clip: rect(1px, 1px, 1px, 1px);height: 1px;margin: -1px;overflow: hidden;padding: 0;position: absolute;width: 1px;}#sk-container-id-3 div.sk-estimator {font-family: monospace;background-color: #f0f8ff;border: 1px dotted black;border-radius: 0.25em;box-sizing: border-box;margin-bottom: 0.5em;}#sk-container-id-3 div.sk-estimator:hover {background-color: #d4ebff;}#sk-container-id-3 div.sk-parallel-item::after {content: \"\";width: 100%;border-bottom: 1px solid gray;flex-grow: 1;}#sk-container-id-3 div.sk-label:hover label.sk-toggleable__label {background-color: #d4ebff;}#sk-container-id-3 div.sk-serial::before {content: \"\";position: absolute;border-left: 1px solid gray;box-sizing: border-box;top: 0;bottom: 0;left: 50%;z-index: 0;}#sk-container-id-3 div.sk-serial {display: flex;flex-direction: column;align-items: center;background-color: white;padding-right: 0.2em;padding-left: 0.2em;position: relative;}#sk-container-id-3 div.sk-item {position: relative;z-index: 1;}#sk-container-id-3 div.sk-parallel {display: flex;align-items: stretch;justify-content: center;background-color: white;position: relative;}#sk-container-id-3 div.sk-item::before, #sk-container-id-3 div.sk-parallel-item::before {content: \"\";position: absolute;border-left: 1px solid gray;box-sizing: border-box;top: 0;bottom: 0;left: 50%;z-index: -1;}#sk-container-id-3 div.sk-parallel-item {display: flex;flex-direction: column;z-index: 1;position: relative;background-color: white;}#sk-container-id-3 div.sk-parallel-item:first-child::after {align-self: flex-end;width: 50%;}#sk-container-id-3 div.sk-parallel-item:last-child::after {align-self: flex-start;width: 50%;}#sk-container-id-3 div.sk-parallel-item:only-child::after {width: 0;}#sk-container-id-3 div.sk-dashed-wrapped {border: 1px dashed gray;margin: 0 0.4em 0.5em 0.4em;box-sizing: border-box;padding-bottom: 0.4em;background-color: white;}#sk-container-id-3 div.sk-label label {font-family: monospace;font-weight: bold;display: inline-block;line-height: 1.2em;}#sk-container-id-3 div.sk-label-container {text-align: center;}#sk-container-id-3 div.sk-container {/* jupyter's `normalize.less` sets `[hidden] { display: none; }` but bootstrap.min.css set `[hidden] { display: none !important; }` so we also need the `!important` here to be able to override the default hidden behavior on the sphinx rendered scikit-learn.org. See: https://github.com/scikit-learn/scikit-learn/issues/21755 */display: inline-block !important;position: relative;}#sk-container-id-3 div.sk-text-repr-fallback {display: none;}</style><div id=\"sk-container-id-3\" class=\"sk-top-container\"><div class=\"sk-text-repr-fallback\"><pre>RandomForestClassifier()</pre><b>In a Jupyter environment, please rerun this cell to show the HTML representation or trust the notebook. <br />On GitHub, the HTML representation is unable to render, please try loading this page with nbviewer.org.</b></div><div class=\"sk-container\" hidden><div class=\"sk-item\"><div class=\"sk-estimator sk-toggleable\"><input class=\"sk-toggleable__control sk-hidden--visually\" id=\"sk-estimator-id-3\" type=\"checkbox\" checked><label for=\"sk-estimator-id-3\" class=\"sk-toggleable__label sk-toggleable__label-arrow\">RandomForestClassifier</label><div class=\"sk-toggleable__content\"><pre>RandomForestClassifier()</pre></div></div></div></div></div>"
      ],
      "text/plain": [
       "RandomForestClassifier()"
      ]
     },
     "execution_count": 22,
     "metadata": {},
     "output_type": "execute_result"
    }
   ],
   "source": [
    "from sklearn.ensemble import RandomForestClassifier\n",
    "\n",
    "rf = RandomForestClassifier()\n",
    "rf.fit(X_train, y_train)"
   ]
  },
  {
   "cell_type": "code",
   "execution_count": 23,
   "id": "7aa198a5",
   "metadata": {},
   "outputs": [],
   "source": [
    "y_pred = rf.predict(X_test)"
   ]
  },
  {
   "cell_type": "code",
   "execution_count": 24,
   "id": "df897d83",
   "metadata": {},
   "outputs": [
    {
     "name": "stdout",
     "output_type": "stream",
     "text": [
      "Accuracy: 1.00\n",
      "Classification Report:\n",
      "              precision    recall  f1-score   support\n",
      "\n",
      "       Great       1.00      1.00      1.00       504\n",
      "       Hello       1.00      1.00      1.00       494\n",
      "  I love you       1.00      1.00      1.00       480\n",
      "          No       1.00      0.99      0.99       509\n",
      "   Thank you       1.00      1.00      1.00       493\n",
      "         Yes       0.99      1.00      1.00       473\n",
      "           a       0.99      1.00      1.00       507\n",
      "           b       1.00      1.00      1.00       490\n",
      "           c       1.00      1.00      1.00       512\n",
      "           d       1.00      1.00      1.00       487\n",
      "           e       0.99      1.00      0.99       508\n",
      "           f       0.99      1.00      1.00       495\n",
      "           g       1.00      1.00      1.00       498\n",
      "           h       1.00      1.00      1.00       469\n",
      "           i       1.00      1.00      1.00       485\n",
      "           j       1.00      0.99      1.00       539\n",
      "           k       0.99      1.00      1.00       460\n",
      "           l       1.00      1.00      1.00       486\n",
      "           m       1.00      0.99      1.00       484\n",
      "           n       1.00      1.00      1.00       479\n",
      "           o       1.00      1.00      1.00       487\n",
      "           p       1.00      0.99      0.99       531\n",
      "           q       0.96      0.99      0.98       294\n",
      "           r       1.00      1.00      1.00       504\n",
      "           s       1.00      0.99      0.99       490\n",
      "           t       1.00      1.00      1.00       477\n",
      "           u       1.00      1.00      1.00       514\n",
      "           v       1.00      1.00      1.00       452\n",
      "           w       1.00      1.00      1.00       485\n",
      "           x       1.00      1.00      1.00       509\n",
      "           y       1.00      1.00      1.00       504\n",
      "           z       1.00      1.00      1.00       501\n",
      "\n",
      "    accuracy                           1.00     15600\n",
      "   macro avg       1.00      1.00      1.00     15600\n",
      "weighted avg       1.00      1.00      1.00     15600\n",
      "\n"
     ]
    }
   ],
   "source": [
    "acc(y_pred,y_test)"
   ]
  },
  {
   "cell_type": "code",
   "execution_count": 25,
   "id": "b2e4c374",
   "metadata": {},
   "outputs": [
    {
     "data": {
      "text/plain": [
       "['Models\\\\rf.h5']"
      ]
     },
     "execution_count": 25,
     "metadata": {},
     "output_type": "execute_result"
    }
   ],
   "source": [
    "joblib.dump(rf,os.path.join('Models','rf.h5'))"
   ]
  },
  {
   "cell_type": "markdown",
   "id": "0b69c4be",
   "metadata": {},
   "source": [
    "<center><h1><b><u>K-Nearest Neighbour(KNN)</u></b></h1></center>"
   ]
  },
  {
   "cell_type": "code",
   "execution_count": 27,
   "id": "434527a4",
   "metadata": {},
   "outputs": [
    {
     "data": {
      "text/html": [
       "<style>#sk-container-id-4 {color: black;}#sk-container-id-4 pre{padding: 0;}#sk-container-id-4 div.sk-toggleable {background-color: white;}#sk-container-id-4 label.sk-toggleable__label {cursor: pointer;display: block;width: 100%;margin-bottom: 0;padding: 0.3em;box-sizing: border-box;text-align: center;}#sk-container-id-4 label.sk-toggleable__label-arrow:before {content: \"▸\";float: left;margin-right: 0.25em;color: #696969;}#sk-container-id-4 label.sk-toggleable__label-arrow:hover:before {color: black;}#sk-container-id-4 div.sk-estimator:hover label.sk-toggleable__label-arrow:before {color: black;}#sk-container-id-4 div.sk-toggleable__content {max-height: 0;max-width: 0;overflow: hidden;text-align: left;background-color: #f0f8ff;}#sk-container-id-4 div.sk-toggleable__content pre {margin: 0.2em;color: black;border-radius: 0.25em;background-color: #f0f8ff;}#sk-container-id-4 input.sk-toggleable__control:checked~div.sk-toggleable__content {max-height: 200px;max-width: 100%;overflow: auto;}#sk-container-id-4 input.sk-toggleable__control:checked~label.sk-toggleable__label-arrow:before {content: \"▾\";}#sk-container-id-4 div.sk-estimator input.sk-toggleable__control:checked~label.sk-toggleable__label {background-color: #d4ebff;}#sk-container-id-4 div.sk-label input.sk-toggleable__control:checked~label.sk-toggleable__label {background-color: #d4ebff;}#sk-container-id-4 input.sk-hidden--visually {border: 0;clip: rect(1px 1px 1px 1px);clip: rect(1px, 1px, 1px, 1px);height: 1px;margin: -1px;overflow: hidden;padding: 0;position: absolute;width: 1px;}#sk-container-id-4 div.sk-estimator {font-family: monospace;background-color: #f0f8ff;border: 1px dotted black;border-radius: 0.25em;box-sizing: border-box;margin-bottom: 0.5em;}#sk-container-id-4 div.sk-estimator:hover {background-color: #d4ebff;}#sk-container-id-4 div.sk-parallel-item::after {content: \"\";width: 100%;border-bottom: 1px solid gray;flex-grow: 1;}#sk-container-id-4 div.sk-label:hover label.sk-toggleable__label {background-color: #d4ebff;}#sk-container-id-4 div.sk-serial::before {content: \"\";position: absolute;border-left: 1px solid gray;box-sizing: border-box;top: 0;bottom: 0;left: 50%;z-index: 0;}#sk-container-id-4 div.sk-serial {display: flex;flex-direction: column;align-items: center;background-color: white;padding-right: 0.2em;padding-left: 0.2em;position: relative;}#sk-container-id-4 div.sk-item {position: relative;z-index: 1;}#sk-container-id-4 div.sk-parallel {display: flex;align-items: stretch;justify-content: center;background-color: white;position: relative;}#sk-container-id-4 div.sk-item::before, #sk-container-id-4 div.sk-parallel-item::before {content: \"\";position: absolute;border-left: 1px solid gray;box-sizing: border-box;top: 0;bottom: 0;left: 50%;z-index: -1;}#sk-container-id-4 div.sk-parallel-item {display: flex;flex-direction: column;z-index: 1;position: relative;background-color: white;}#sk-container-id-4 div.sk-parallel-item:first-child::after {align-self: flex-end;width: 50%;}#sk-container-id-4 div.sk-parallel-item:last-child::after {align-self: flex-start;width: 50%;}#sk-container-id-4 div.sk-parallel-item:only-child::after {width: 0;}#sk-container-id-4 div.sk-dashed-wrapped {border: 1px dashed gray;margin: 0 0.4em 0.5em 0.4em;box-sizing: border-box;padding-bottom: 0.4em;background-color: white;}#sk-container-id-4 div.sk-label label {font-family: monospace;font-weight: bold;display: inline-block;line-height: 1.2em;}#sk-container-id-4 div.sk-label-container {text-align: center;}#sk-container-id-4 div.sk-container {/* jupyter's `normalize.less` sets `[hidden] { display: none; }` but bootstrap.min.css set `[hidden] { display: none !important; }` so we also need the `!important` here to be able to override the default hidden behavior on the sphinx rendered scikit-learn.org. See: https://github.com/scikit-learn/scikit-learn/issues/21755 */display: inline-block !important;position: relative;}#sk-container-id-4 div.sk-text-repr-fallback {display: none;}</style><div id=\"sk-container-id-4\" class=\"sk-top-container\"><div class=\"sk-text-repr-fallback\"><pre>KNeighborsClassifier()</pre><b>In a Jupyter environment, please rerun this cell to show the HTML representation or trust the notebook. <br />On GitHub, the HTML representation is unable to render, please try loading this page with nbviewer.org.</b></div><div class=\"sk-container\" hidden><div class=\"sk-item\"><div class=\"sk-estimator sk-toggleable\"><input class=\"sk-toggleable__control sk-hidden--visually\" id=\"sk-estimator-id-4\" type=\"checkbox\" checked><label for=\"sk-estimator-id-4\" class=\"sk-toggleable__label sk-toggleable__label-arrow\">KNeighborsClassifier</label><div class=\"sk-toggleable__content\"><pre>KNeighborsClassifier()</pre></div></div></div></div></div>"
      ],
      "text/plain": [
       "KNeighborsClassifier()"
      ]
     },
     "execution_count": 27,
     "metadata": {},
     "output_type": "execute_result"
    }
   ],
   "source": [
    "knn = KNeighborsClassifier()\n",
    "knn.fit(X_train,y_train)"
   ]
  },
  {
   "cell_type": "code",
   "execution_count": 28,
   "id": "d70e5be7",
   "metadata": {},
   "outputs": [],
   "source": [
    "y_pred = knn.predict(X_test)"
   ]
  },
  {
   "cell_type": "code",
   "execution_count": 29,
   "id": "e46e2abe",
   "metadata": {},
   "outputs": [
    {
     "name": "stdout",
     "output_type": "stream",
     "text": [
      "Accuracy: 1.00\n",
      "Classification Report:\n",
      "              precision    recall  f1-score   support\n",
      "\n",
      "       Great       1.00      1.00      1.00       503\n",
      "       Hello       1.00      1.00      1.00       494\n",
      "  I love you       1.00      1.00      1.00       479\n",
      "          No       1.00      1.00      1.00       503\n",
      "   Thank you       1.00      0.99      1.00       495\n",
      "         Yes       1.00      1.00      1.00       474\n",
      "           a       1.00      1.00      1.00       510\n",
      "           b       1.00      0.99      1.00       492\n",
      "           c       1.00      1.00      1.00       512\n",
      "           d       0.99      1.00      1.00       485\n",
      "           e       0.99      1.00      1.00       512\n",
      "           f       0.99      1.00      1.00       493\n",
      "           g       1.00      1.00      1.00       499\n",
      "           h       0.99      1.00      1.00       467\n",
      "           i       1.00      1.00      1.00       486\n",
      "           j       1.00      1.00      1.00       535\n",
      "           k       0.99      1.00      1.00       461\n",
      "           l       1.00      1.00      1.00       487\n",
      "           m       1.00      0.99      0.99       482\n",
      "           n       1.00      0.99      1.00       483\n",
      "           o       1.00      1.00      1.00       487\n",
      "           p       1.00      0.98      0.99       535\n",
      "           q       0.94      1.00      0.97       286\n",
      "           r       1.00      1.00      1.00       503\n",
      "           s       1.00      0.99      0.99       491\n",
      "           t       1.00      1.00      1.00       479\n",
      "           u       1.00      1.00      1.00       514\n",
      "           v       1.00      0.99      1.00       453\n",
      "           w       1.00      1.00      1.00       485\n",
      "           x       0.99      0.99      0.99       508\n",
      "           y       1.00      1.00      1.00       505\n",
      "           z       1.00      0.99      1.00       502\n",
      "\n",
      "    accuracy                           1.00     15600\n",
      "   macro avg       1.00      1.00      1.00     15600\n",
      "weighted avg       1.00      1.00      1.00     15600\n",
      "\n"
     ]
    }
   ],
   "source": [
    "acc(y_pred,y_test)"
   ]
  },
  {
   "cell_type": "code",
   "execution_count": 30,
   "id": "27a32110",
   "metadata": {},
   "outputs": [
    {
     "data": {
      "text/plain": [
       "['Models\\\\knn.h5']"
      ]
     },
     "execution_count": 30,
     "metadata": {},
     "output_type": "execute_result"
    }
   ],
   "source": [
    "joblib.dump(knn,os.path.join('Models','knn.h5'))"
   ]
  },
  {
   "cell_type": "markdown",
   "id": "87397f63",
   "metadata": {},
   "source": [
    "<h2><center>Clearly we can see that KNN and Random Forests provide us with the best test results.</center></h2>"
   ]
  },
  {
   "cell_type": "code",
   "execution_count": null,
   "id": "49d35743",
   "metadata": {},
   "outputs": [],
   "source": []
  }
 ],
 "metadata": {
  "kernelspec": {
   "display_name": "Python 3 (ipykernel)",
   "language": "python",
   "name": "python3"
  },
  "language_info": {
   "codemirror_mode": {
    "name": "ipython",
    "version": 3
   },
   "file_extension": ".py",
   "mimetype": "text/x-python",
   "name": "python",
   "nbconvert_exporter": "python",
   "pygments_lexer": "ipython3",
   "version": "3.10.9"
  }
 },
 "nbformat": 4,
 "nbformat_minor": 5
}
